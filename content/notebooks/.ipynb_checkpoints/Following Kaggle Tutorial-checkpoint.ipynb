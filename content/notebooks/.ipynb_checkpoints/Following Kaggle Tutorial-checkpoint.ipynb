{
 "cells": [
  {
   "cell_type": "markdown",
   "metadata": {},
   "source": [
    "# Following the Kaggle Tutorial\n",
    "\n",
    "We work with a dataset containing 25,000 movie reviews from IMDB, labeled by sentiment (positive/negative).  In addition, there are another 50,000 IMDB reviews provided without any rating labels.  \n",
    "\n",
    "The reviews are split evenly into train and test sets (25k train and 25k test). The overall distribution of labels is also balanced within the train set (12.5k pos and 12.5k neg).  Our goal is to see how well we can predict sentiment in the test dataset. \n",
    "\n",
    "We note that Keras also has a version of this dataset, but it is missing the unlabeled reviews.  We could download the original dataset [here](http://ai.stanford.edu/~amaas/data/sentiment/), but we settle on a slighly more formatted (and so easier-to-use) version from Kaggle [here](https://www.kaggle.com/c/word2vec-nlp-tutorial/data?unlabeledTrainData.tsv.zip).\n",
    "\n",
    "For this first part of the notebook, we follow along with the Kaggle tutorial [here](https://www.kaggle.com/c/word2vec-nlp-tutorial/details/part-1-for-beginners-bag-of-words)."
   ]
  },
  {
   "cell_type": "code",
   "execution_count": 68,
   "metadata": {
    "collapsed": false
   },
   "outputs": [],
   "source": [
    "import pandas as pd                 # for importing the data\n",
    "from bs4 import BeautifulSoup       # for removing HTML tags\n",
    "import re                           # for processing with regular expressions\n",
    "import nltk.data                    # for sentence splitting\n",
    "import logging                      # output messages for word2vec embedding step\n",
    "from gensim.models import word2vec  # embedding algorithm\n",
    "import numpy as np\n",
    "import tensorflow as tf\n",
    "import matplotlib.pyplot as plt\n",
    "import seaborn as sns\n",
    "%matplotlib inline\n",
    "\n",
    "# If you are using Python 3, you will get an error.\n",
    "# (Pattern is a Python 2 library and fails to install for Python 3.)"
   ]
  },
  {
   "cell_type": "code",
   "execution_count": 3,
   "metadata": {
    "collapsed": false
   },
   "outputs": [],
   "source": [
    "# load the data\n",
    "train = pd.read_csv(\"../data/labeledTrainData.tsv\", header=0, delimiter=\"\\t\", quoting=3)\n",
    "test = pd.read_csv(\"../data/testData.tsv\", header=0, delimiter=\"\\t\", quoting=3 )\n",
    "unlabeled_train = pd.read_csv(\"../data/unlabeledTrainData.tsv\", header=0, delimiter=\"\\t\", quoting=3 )"
   ]
  },
  {
   "cell_type": "markdown",
   "metadata": {},
   "source": [
    "Here, `train` is a pandas dataframe with 25,000 rows, each corresponding to a review.  There are three columns:\n",
    "- `id`: an identifier\n",
    "- `sentiment` $\\in \\{0,1\\}$: indicates pos(1) or neg(0) sentiment\n",
    "- `review`: the full text of the review\n",
    "\n",
    "`test` and `unlabeled_train` have 25,000 and 50,000 rows, respectively, and each contain two columns (`id` and `review`)."
   ]
  },
  {
   "cell_type": "code",
   "execution_count": 8,
   "metadata": {
    "collapsed": false
   },
   "outputs": [
    {
     "name": "stdout",
     "output_type": "stream",
     "text": [
      "Read 25000 labeled train reviews, 25000 test reviews, and 50000 unlabeled train reviews.\n",
      "\n",
      "TOTAL: 100000 reviews.\n",
      "\n",
      "In the labeled train set, 12500 reviews are positive, and 12500 are negative.\n"
     ]
    }
   ],
   "source": [
    "print(\"Read %d labeled train reviews, %d test reviews, \" \\\n",
    " \"and %d unlabeled train reviews.\\n\" % (train[\"review\"].size,  \n",
    " test[\"review\"].size, unlabeled_train[\"review\"].size))\n",
    "print(\"TOTAL: %d reviews.\\n\" % int(train[\"review\"].size + test[\"review\"].size + unlabeled_train[\"review\"].size))\n",
    "print(\"In the labeled train set, %s reviews are positive, and %s are negative.\" % (sum(train[\"sentiment\"].values), train.shape[0]-sum(train[\"sentiment\"].values)))"
   ]
  },
  {
   "cell_type": "markdown",
   "metadata": {},
   "source": [
    "We visualize a sample review below.  "
   ]
  },
  {
   "cell_type": "code",
   "execution_count": 9,
   "metadata": {
    "collapsed": false
   },
   "outputs": [
    {
     "data": {
      "text/plain": [
       "'\"The film starts with a manager (Nicholas Bell) giving welcome investors (Robert Carradine) to Primal Park . A secret project mutating a primal animal using fossilized DNA, like ¨Jurassik Park¨, and some scientists resurrect one of nature\\'s most fearsome predators, the Sabretooth tiger or Smilodon . Scientific ambition turns deadly, however, and when the high voltage fence is opened the creature escape and begins savagely stalking its prey - the human visitors , tourists and scientific.Meanwhile some youngsters enter in the restricted area of the security center and are attacked by a pack of large pre-historical animals which are deadlier and bigger . In addition , a security agent (Stacy Haiduk) and her mate (Brian Wimmer) fight hardly against the carnivorous Smilodons. The Sabretooths, themselves , of course, are the real star stars and they are astounding terrifyingly though not convincing. The giant animals savagely are stalking its prey and the group run afoul and fight against one nature\\'s most fearsome predators. Furthermore a third Sabretooth more dangerous and slow stalks its victims.<br /><br />The movie delivers the goods with lots of blood and gore as beheading, hair-raising chills,full of scares when the Sabretooths appear with mediocre special effects.The story provides exciting and stirring entertainment but it results to be quite boring .The giant animals are majority made by computer generator and seem totally lousy .Middling performances though the players reacting appropriately to becoming food.Actors give vigorously physical performances dodging the beasts ,running,bound and leaps or dangling over walls . And it packs a ridiculous final deadly scene. No for small kids by realistic,gory and violent attack scenes . Other films about Sabretooths or Smilodon are the following : ¨Sabretooth(2002)¨by James R Hickox with Vanessa Angel, David Keith and John Rhys Davies and the much better ¨10.000 BC(2006)¨ by Roland Emmerich with with Steven Strait, Cliff Curtis and Camilla Belle. This motion picture filled with bloody moments is badly directed by George Miller and with no originality because takes too many elements from previous films. Miller is an Australian director usually working for television (Tidal wave, Journey to the center of the earth, and many others) and occasionally for cinema ( The man from Snowy river, Zeus and Roxanne,Robinson Crusoe ). Rating : Below average, bottom of barrel.\"'"
      ]
     },
     "execution_count": 9,
     "metadata": {},
     "output_type": "execute_result"
    }
   ],
   "source": [
    "train[\"review\"][2]"
   ]
  },
  {
   "cell_type": "markdown",
   "metadata": {},
   "source": [
    "We would like to process each review to make it mathematically digestible.  We focus on using distributed word vectors created by the Word2Vec algorithm.  We use the implementation of Word2Vec from the gensim package.\n",
    "\n",
    "Word2Vec takes as input single sentences, each one as a list of words.  That is, the input format is a list of lists.  It outputs a model of semantic meaning. \n",
    "\n",
    "We split a paragraph into sentences through the use of NLTK's __punkt__ tokenizer.  As an example, we print the first sentence identified by __punkt__ from the review above.  It nicely corresponds to our expectations!"
   ]
  },
  {
   "cell_type": "code",
   "execution_count": 15,
   "metadata": {
    "collapsed": false
   },
   "outputs": [
    {
     "name": "stdout",
     "output_type": "stream",
     "text": [
      "\"The film starts with a manager (Nicholas Bell) giving welcome investors (Robert Carradine) to Primal Park .\n"
     ]
    }
   ],
   "source": [
    "# Load the punkt tokenizer\n",
    "tokenizer = nltk.data.load('tokenizers/punkt/english.pickle')\n",
    "\n",
    "# Convert sample review to list of sentences\n",
    "stripped_sentences_sample = tokenizer.tokenize(train['review'][2].strip())\n",
    "# Visualize first sample sentence\n",
    "print(stripped_sentences_sample[0])"
   ]
  },
  {
   "cell_type": "markdown",
   "metadata": {},
   "source": [
    "We would furthermore need each sentence to be cleaned.  There are HTML tags such as `<br/>`, abbreviations, punctuation - all common issues when processing text from online. We need to tidy up the text before applying machine learning algorithms.\n",
    "\n",
    "Our function `raw_sentence_to_wordlist` works as follows:\n",
    "- HTML tags are removed through the use of the Beautiful Soup library.\n",
    "- Numbers and punctuation are replaced with a space using regular expressions.\n",
    "- We convert all of the words to lowercase and convert the sentence string into a list of words."
   ]
  },
  {
   "cell_type": "code",
   "execution_count": 18,
   "metadata": {
    "collapsed": false
   },
   "outputs": [],
   "source": [
    "def raw_sentence_to_wordlist( raw_sentence ):\n",
    "    # Function to convert a raw review to a string of words\n",
    "    # The input is a single string (a raw movie review), and \n",
    "    # the output is a single string (a preprocessed movie review)\n",
    "    #\n",
    "    # 1. Remove HTML\n",
    "    review_text = BeautifulSoup(raw_sentence, \"lxml\").get_text() \n",
    "    #\n",
    "    # 2. Remove non-letters (replace numbers and punctuation, for instance, with a space)      \n",
    "    letters_only = re.sub(\"[^a-zA-Z]\", \" \", review_text) \n",
    "    #\n",
    "    # 3. Convert to lower case, split into individual words\n",
    "    wordlist = letters_only.lower().split()                             \n",
    "    #\n",
    "    # 4. Return a list of words.\n",
    "    return(wordlist)   "
   ]
  },
  {
   "cell_type": "markdown",
   "metadata": {},
   "source": [
    "As an example, we output the cleaned version of the sentence above.  Again, it appears to be working nicely!"
   ]
  },
  {
   "cell_type": "code",
   "execution_count": 19,
   "metadata": {
    "collapsed": false
   },
   "outputs": [
    {
     "name": "stdout",
     "output_type": "stream",
     "text": [
      "['the', 'film', 'starts', 'with', 'a', 'manager', 'nicholas', 'bell', 'giving', 'welcome', 'investors', 'robert', 'carradine', 'to', 'primal', 'park']\n"
     ]
    }
   ],
   "source": [
    "print(raw_sentence_to_wordlist(stripped_sentences_sample[0]))"
   ]
  },
  {
   "cell_type": "markdown",
   "metadata": {},
   "source": [
    "We are almost done with processing the input for the Word2Vec embedding.  Now, we need only create a function (here, `review_to_sentences`) that puts everything together by looping through the paragraph and creates lists of lists of clean sentences."
   ]
  },
  {
   "cell_type": "code",
   "execution_count": 20,
   "metadata": {
    "collapsed": true
   },
   "outputs": [],
   "source": [
    "# Define a function to split a review into parsed sentences\n",
    "def review_to_sentences( review, tokenizer ):\n",
    "    # Function to split a review into parsed sentences. Returns a \n",
    "    # list of sentences, where each sentence is a list of words\n",
    "    #\n",
    "    # 1. Use the NLTK tokenizer to split the paragraph into sentences\n",
    "    raw_sentences = tokenizer.tokenize(review.strip())\n",
    "    #\n",
    "    # 2. Loop over each sentence\n",
    "    sentences = []\n",
    "    for raw_sentence in raw_sentences:\n",
    "        # If a sentence is empty, skip it\n",
    "        if len(raw_sentence) > 0:\n",
    "            # Otherwise, call review_to_wordlist to get a list of words\n",
    "            sentences.append( raw_sentence_to_wordlist( raw_sentence ))\n",
    "    #\n",
    "    # Return the list of sentences (each sentence is a list of words,\n",
    "    # so this returns a list of lists\n",
    "    return sentences"
   ]
  },
  {
   "cell_type": "markdown",
   "metadata": {},
   "source": [
    "We now need only to call this function to populate our list of lists."
   ]
  },
  {
   "cell_type": "code",
   "execution_count": 182,
   "metadata": {
    "collapsed": false
   },
   "outputs": [],
   "source": [
    "# I chose not to use the tqdm package here, but it is a possibility for tracking longer runtimes.\n",
    "train_sentences = []  # Initialize an empty list of sentences\n",
    "unlabeled_sentences = []\n",
    "labels = []\n",
    "\n",
    "print(\"Parsing sentences from training set\")\n",
    "for index, row in train.iterrows():\n",
    "    to_append = review_to_sentences(train['review'][index], tokenizer)\n",
    "    train_sentences += to_append\n",
    "    labels += list(train['sentiment'][index]*np.ones(len(to_append)))\n",
    "\n",
    "print(\"Parsing sentences from unlabeled set\")\n",
    "for index, row in unlabeled_train.iterrows():\n",
    "    to_append = review_to_sentences(unlabeled_train['review'][index], tokenizer)\n",
    "    unlabeled_sentences += to_append\n",
    "\n",
    "# concatenate the two lists\n",
    "sentences = train_sentences + unlabeled_sentences"
   ]
  },
  {
   "cell_type": "markdown",
   "metadata": {},
   "source": [
    "The Word2Vec algorithm accepts a number of parameters that must be trained.  Here, we provide some starting points (that were supplied by the writers of the Kaggle tutorial)."
   ]
  },
  {
   "cell_type": "code",
   "execution_count": 22,
   "metadata": {
    "collapsed": false
   },
   "outputs": [],
   "source": [
    "# OPTIONAL: Configure logging module so that Word2Vec creates nice output messages\n",
    "# I chose not to use it, because it runs quite fast on my system.\n",
    "# logging.basicConfig(format='%(asctime)s : %(levelname)s : %(message)s', level=logging.INFO)\n",
    "\n",
    "# Set values for various parameters\n",
    "num_features = 300    # Word vector dimensionality                      \n",
    "min_word_count = 40   # Minimum word count                        \n",
    "num_workers = 4       # Number of threads to run in parallel\n",
    "context = 10          # Context window size                                                                                    \n",
    "downsampling = 1e-3   # Downsample setting for frequent words\n",
    "\n",
    "# Initialize and train the model \n",
    "model = word2vec.Word2Vec(sentences, workers=num_workers, \\\n",
    "            size=num_features, min_count = min_word_count, \\\n",
    "            window = context, sample = downsampling)\n",
    "\n",
    "# If you don't plan to train the model any further, calling \n",
    "# init_sims will make the model much more memory-efficient.\n",
    "model.init_sims(replace=True)\n",
    "\n",
    "# It can be helpful to create a meaningful model name and save the model for later use. \n",
    "# model.save(\"300features_40minwords_10context\")\n",
    "# to load: model = Word2Vec.load(\"300features_40minwords_10context\")"
   ]
  },
  {
   "cell_type": "markdown",
   "metadata": {},
   "source": [
    "We can use the `most_similar` function to get insight into the model's word clusters.  This function returns the words that are closest to the provided word."
   ]
  },
  {
   "cell_type": "code",
   "execution_count": 11,
   "metadata": {
    "collapsed": false
   },
   "outputs": [
    {
     "data": {
      "text/plain": [
       "[('terrible', 0.6697828769683838),\n",
       " ('horrible', 0.646095871925354),\n",
       " ('good', 0.6342213153839111),\n",
       " ('lousy', 0.6001288890838623),\n",
       " ('awful', 0.5992096662521362),\n",
       " ('crappy', 0.5987610816955566),\n",
       " ('stupid', 0.5869919061660767),\n",
       " ('cheesy', 0.5790674686431885),\n",
       " ('lame', 0.5578579306602478),\n",
       " ('dumb', 0.5522592067718506)]"
      ]
     },
     "execution_count": 11,
     "metadata": {},
     "output_type": "execute_result"
    }
   ],
   "source": [
    "model.most_similar(\"bad\")"
   ]
  },
  {
   "cell_type": "markdown",
   "metadata": {},
   "source": [
    "It seems we have a reasonably good model for semantic meaning :).  In case you're wondering how the model is stored, we can look beneath the hood.  The Word2Vec model consists of a feature vector for each word in the vocabulary, stored in a numpy array called \"syn0\"."
   ]
  },
  {
   "cell_type": "code",
   "execution_count": 12,
   "metadata": {
    "collapsed": false
   },
   "outputs": [
    {
     "name": "stdout",
     "output_type": "stream",
     "text": [
      "<class 'numpy.ndarray'>\n",
      "(16490, 300)\n"
     ]
    }
   ],
   "source": [
    "print(type(model.syn0))\n",
    "print(model.syn0.shape)"
   ]
  },
  {
   "cell_type": "markdown",
   "metadata": {},
   "source": [
    "Individual word vectors can be accessed in the following way:"
   ]
  },
  {
   "cell_type": "code",
   "execution_count": 13,
   "metadata": {
    "collapsed": false
   },
   "outputs": [
    {
     "name": "stdout",
     "output_type": "stream",
     "text": [
      "(300,)\n",
      "[ 0.04584237 -0.10387777 -0.07895309  0.07299399  0.061274  ]\n"
     ]
    }
   ],
   "source": [
    "# Each word is assinged a 1x300 numpy array\n",
    "print(model[\"bad\"].shape)\n",
    "\n",
    "# As an example, we output the first 5 entries of the array assigned to \"bad\" \n",
    "print(model[\"bad\"][:5])"
   ]
  },
  {
   "cell_type": "markdown",
   "metadata": {},
   "source": [
    "We now have a representation of each document, with the $i$-th document as a matrix with 300 columns and $w_i$ rows, where $w_i$ is the number of words in the $i$-th document.  Unlike the bag-of-words representation, this embedding captures the dynamics of word order and represents a useful improvement that could be fed into a potential classification algorithm.\n",
    "\n",
    "However, we soon run into a problem.  Classification and clustering algorithms typically require the text input to be represented as a fixed length vector.  The Kaggle tutorial investigates two methods to deal with this issue.  The resultant test accuracy was then compared to the results of simply running a Random Forest classifer on bag-of-words features.\n",
    "\n",
    "The first method was to simply average the word vectors in a given review; they also removed stop words in processing.  The resultant set of average word vectors was then fed into a Random Forest classifier.  This method (slightly) underperformed bag-of-words.\n",
    "\n",
    "The second method was to cluster the set of words, according to their Word2Vec embeddings.  They used $K$-means for this purpose, with the number of clusters set to one fifth of the vocabulary size ($K$ = 16490/5 = 3298).  Documents were then represented as \"bags-of-centroids\", where each document was represented as a $K$-dimensional vector, where the $i$-th entry contained the number of words in the document in the $i$-th cluster.  The resultant bag-of-centroids vectors were then fed into a Random Forest classifier.  This method (slightly) underperformed bag of words.\n",
    "\n",
    "Thus, we must find a more clever approach towards using our Word2Vec features. \n",
    "\n",
    "# Deviating from Kaggle Tutorial"
   ]
  },
  {
   "cell_type": "code",
   "execution_count": 176,
   "metadata": {
    "collapsed": false
   },
   "outputs": [
    {
     "name": "stdout",
     "output_type": "stream",
     "text": [
      "The longest sentence has 969 words.\n",
      "The shortest sentence has 0 words.\n",
      "We have a total of 2 classes.\n",
      "[]\n"
     ]
    }
   ],
   "source": [
    "# obtain shortest and longest sentences\n",
    "(max_sentence_id, longest_sentence) = max(enumerate(sentences), key = lambda sentences: len(sentences[1]))\n",
    "(min_sentence_id, shortest_sentence) = min(enumerate(sentences), key = lambda sentences: len(sentences[1]))\n",
    "\n",
    "print(\"The longest sentence has %s words.\" % len(longest_sentence))\n",
    "print(\"The shortest sentence has %s words.\" % len(shortest_sentence))\n",
    "\n",
    "num_classes = len(train['sentiment'].unique())\n",
    "print(\"We have a total of %s classes.\" % num_classes)\n",
    "print(shortest_sentence)\n",
    "\n",
    "embedding_size = 100\n",
    "vocab_size = 1000\n",
    "sequence_length = 80"
   ]
  },
  {
   "cell_type": "code",
   "execution_count": 180,
   "metadata": {
    "collapsed": false
   },
   "outputs": [
    {
     "name": "stdout",
     "output_type": "stream",
     "text": [
      "Total number of sentences: 1591076\n",
      "Total number of labeled sentences: 266551\n",
      "Total number of unlabeled sentences: 528987\n",
      "795538\n",
      "Sentences of length 0: 8936\n",
      "Sentences of length >200: 890 ( <=200: 1590186 )\n",
      "\n",
      "Sentences of length >100: 10808 ( <=100: 1580268 )\n",
      "\n"
     ]
    },
    {
     "data": {
      "image/png": "[encoded data removed]",
      "text/plain": [
       "<matplotlib.figure.Figure at 0x1ba020080>"
      ]
     },
     "metadata": {},
     "output_type": "display_data"
    }
   ],
   "source": [
    "# obtain list of sentence lengths\n",
    "sentence_lengths = [len(elem) for elem in sentences]\n",
    "sentence_lengths.sort()\n",
    "\n",
    "# get total number of sentences\n",
    "print(\"Total number of sentences:\", len(sentence_lengths))\n",
    "print(\"Total number of labeled sentences:\", len(train_sentences))\n",
    "print(\"Total number of unlabeled sentences:\", len(unlabeled_sentences))\n",
    "print(len(train_sentences+unlabeled_sentences))\n",
    "# get number of sentences of length zero\n",
    "print(\"Sentences of length 0:\", sum([i==0 for i in sentence_lengths]))\n",
    "# get number of sentences of size greater than 200\n",
    "print(\"Sentences of length >200:\", sum([i>200 for i in sentence_lengths]), \n",
    "      \"( <=200:\", sum([i<=200 for i in sentence_lengths]), \")\\n\")\n",
    "# get number of sentences of size greater than 100\n",
    "print(\"Sentences of length >100:\", sum([i>100 for i in sentence_lengths]), \n",
    "      \"( <=100:\", sum([i<=100 for i in sentence_lengths]), \")\\n\")\n",
    "\n",
    "# make plots\n",
    "plt.figure(figsize=(10,4))\n",
    "\n",
    "# make histogram of sentence lengths for sentences <=200 \n",
    "plt.subplot(121)\n",
    "plt.hist(sentence_lengths, bins=np.linspace(0, 200, 21))\n",
    "plt.title(\"Histogram of sentence lengths up to 200\")\n",
    "\n",
    "# make histogram of sentence lengths for sentences <=100 \n",
    "plt.subplot(122)\n",
    "plt.hist(sentence_lengths, bins=np.linspace(0, 100, 11))\n",
    "plt.title(\"Histogram of sentence lengths up to 100\")\n",
    "\n",
    "# adjust spacing between subplots to minimize the overlaps\n",
    "plt.tight_layout()\n",
    "plt.show()"
   ]
  },
  {
   "cell_type": "code",
   "execution_count": 137,
   "metadata": {
    "collapsed": false
   },
   "outputs": [],
   "source": [
    "class TextCNN(object):\n",
    "    \"\"\"\n",
    "    A CNN for text classification.\n",
    "    Uses an embedding layer, followed by a convolutional, max-pooling and softmax layer.\n",
    "    \"\"\"\n",
    "    def __init__(\n",
    "      self, model, sequence_length, num_classes, vocab_size,\n",
    "      embedding_size, filter_sizes, num_filters, l2_reg_lambda=0.0):\n",
    "        \n",
    "        # save the model\n",
    "        self.model = model\n",
    "\n",
    "        # Placeholders for input, output and dropout\n",
    "        self.input_x = tf.placeholder(tf.int32, [None, sequence_length], name=\"input_x\")\n",
    "        self.input_y = tf.placeholder(tf.float32, [None, num_classes], name=\"input_y\")\n",
    "        self.dropout_keep_prob = tf.placeholder(tf.float32, name=\"dropout_keep_prob\")\n",
    "\n",
    "        # Keeping track of l2 regularization loss (optional)\n",
    "        l2_loss = tf.constant(0.0)\n",
    "\n",
    "        # Embedding layer\n",
    "        with tf.device('/cpu:0'), tf.name_scope(\"embedding\"):\n",
    "            # set embeddings\n",
    "            W = tf.Variable(\n",
    "                tf.random_uniform([vocab_size, embedding_size], -1.0, 1.0),\n",
    "                name=\"W\", trainable=False)\n",
    "            self.embedded_chars = tf.nn.embedding_lookup(W, self.input_x)\n",
    "            self.embedded_chars_expanded = tf.expand_dims(self.embedded_chars, -1)\n",
    "\n",
    "        # Create a convolution + maxpool layer for each filter size\n",
    "        pooled_outputs = []\n",
    "        for i, filter_size in enumerate(filter_sizes):\n",
    "            with tf.name_scope(\"conv-maxpool-%s\" % filter_size):\n",
    "                # Convolution Layer\n",
    "                filter_shape = [filter_size, embedding_size, 1, num_filters]\n",
    "                W = tf.Variable(tf.truncated_normal(filter_shape, stddev=0.1), name=\"W\")\n",
    "                b = tf.Variable(tf.constant(0.1, shape=[num_filters]), name=\"b\")\n",
    "                conv = tf.nn.conv2d(\n",
    "                    self.embedded_chars_expanded,\n",
    "                    W,\n",
    "                    strides=[1, 1, 1, 1],\n",
    "                    padding=\"VALID\",\n",
    "                    name=\"conv\")\n",
    "                # Apply nonlinearity\n",
    "                h = tf.nn.relu(tf.nn.bias_add(conv, b), name=\"relu\")\n",
    "                # Maxpooling over the outputs\n",
    "                pooled = tf.nn.max_pool(\n",
    "                    h,\n",
    "                    ksize=[1, sequence_length - filter_size + 1, 1, 1],\n",
    "                    strides=[1, 1, 1, 1],\n",
    "                    padding='VALID',\n",
    "                    name=\"pool\")\n",
    "                pooled_outputs.append(pooled)\n",
    "\n",
    "        # Combine all the pooled features\n",
    "        num_filters_total = num_filters * len(filter_sizes)\n",
    "        self.h_pool = tf.concat(3, pooled_outputs)\n",
    "        self.h_pool_flat = tf.reshape(self.h_pool, [-1, num_filters_total])\n",
    "\n",
    "        # Add dropout\n",
    "        with tf.name_scope(\"dropout\"):\n",
    "            self.h_drop = tf.nn.dropout(self.h_pool_flat, self.dropout_keep_prob)\n",
    "\n",
    "        # Final (unnormalized) scores and predictions\n",
    "        with tf.name_scope(\"output\"):\n",
    "            W = tf.get_variable(\n",
    "                \"W\",\n",
    "                shape=[num_filters_total, num_classes],\n",
    "                initializer=tf.contrib.layers.xavier_initializer())\n",
    "            b = tf.Variable(tf.constant(0.1, shape=[num_classes]), name=\"b\")\n",
    "            l2_loss += tf.nn.l2_loss(W)\n",
    "            l2_loss += tf.nn.l2_loss(b)\n",
    "            self.scores = tf.nn.xw_plus_b(self.h_drop, W, b, name=\"scores\")\n",
    "            self.predictions = tf.argmax(self.scores, 1, name=\"predictions\")\n",
    "\n",
    "        # CalculateMean cross-entropy loss\n",
    "        with tf.name_scope(\"loss\"):\n",
    "            losses = tf.nn.softmax_cross_entropy_with_logits(self.scores, self.input_y)\n",
    "            self.loss = tf.reduce_mean(losses) + l2_reg_lambda * l2_loss\n",
    "\n",
    "        # Accuracy\n",
    "        with tf.name_scope(\"accuracy\"):\n",
    "            correct_predictions = tf.equal(self.predictions, tf.argmax(self.input_y, 1))\n",
    "            self.accuracy = tf.reduce_mean(tf.cast(correct_predictions, \"float\"), name=\"accuracy\")"
   ]
  },
  {
   "cell_type": "code",
   "execution_count": 136,
   "metadata": {
    "collapsed": false
   },
   "outputs": [
    {
     "ename": "NameError",
     "evalue": "name 'x_train' is not defined",
     "output_type": "error",
     "traceback": [
      "\u001b[0;31m---------------------------------------------------------------------------\u001b[0m",
      "\u001b[0;31mNameError\u001b[0m                                 Traceback (most recent call last)",
      "\u001b[0;32m<ipython-input-136-38c5ef4999f8>\u001b[0m in \u001b[0;36m<module>\u001b[0;34m()\u001b[0m\n\u001b[1;32m      3\u001b[0m     \u001b[0;32mwith\u001b[0m \u001b[0msess\u001b[0m\u001b[0;34m.\u001b[0m\u001b[0mas_default\u001b[0m\u001b[0;34m(\u001b[0m\u001b[0;34m)\u001b[0m\u001b[0;34m:\u001b[0m\u001b[0;34m\u001b[0m\u001b[0m\n\u001b[1;32m      4\u001b[0m         cnn = TextCNN(\n\u001b[0;32m----> 5\u001b[0;31m             \u001b[0msequence_length\u001b[0m\u001b[0;34m=\u001b[0m\u001b[0mx_train\u001b[0m\u001b[0;34m.\u001b[0m\u001b[0mshape\u001b[0m\u001b[0;34m[\u001b[0m\u001b[0;36m1\u001b[0m\u001b[0;34m]\u001b[0m\u001b[0;34m,\u001b[0m\u001b[0;34m\u001b[0m\u001b[0m\n\u001b[0m\u001b[1;32m      6\u001b[0m             \u001b[0mnum_classes\u001b[0m\u001b[0;34m=\u001b[0m\u001b[0my_train\u001b[0m\u001b[0;34m.\u001b[0m\u001b[0mshape\u001b[0m\u001b[0;34m[\u001b[0m\u001b[0;36m1\u001b[0m\u001b[0;34m]\u001b[0m\u001b[0;34m,\u001b[0m\u001b[0;34m\u001b[0m\u001b[0m\n\u001b[1;32m      7\u001b[0m             \u001b[0mvocab_size\u001b[0m\u001b[0;34m=\u001b[0m\u001b[0mlen\u001b[0m\u001b[0;34m(\u001b[0m\u001b[0mvocab_processor\u001b[0m\u001b[0;34m.\u001b[0m\u001b[0mvocabulary_\u001b[0m\u001b[0;34m)\u001b[0m\u001b[0;34m,\u001b[0m\u001b[0;34m\u001b[0m\u001b[0m\n",
      "\u001b[0;31mNameError\u001b[0m: name 'x_train' is not defined"
     ]
    }
   ],
   "source": [
    "with tf.Graph().as_default():\n",
    "    sess = tf.Session()\n",
    "    with sess.as_default():\n",
    "        cnn = TextCNN(\n",
    "            sequence_length=x_train.shape[1],\n",
    "            num_classes=y_train.shape[1],\n",
    "            vocab_size=len(vocab_processor.vocabulary_),\n",
    "            embedding_size=FLAGS.embedding_dim,\n",
    "            filter_sizes=list(map(int, FLAGS.filter_sizes.split(\",\"))),\n",
    "            num_filters=FLAGS.num_filters,\n",
    "            l2_reg_lambda=FLAGS.l2_reg_lambda)\n",
    "\n",
    "        # Define Training procedure\n",
    "        global_step = tf.Variable(0, name=\"global_step\", trainable=False)\n",
    "        optimizer = tf.train.AdamOptimizer(1e-3)\n",
    "        grads_and_vars = optimizer.compute_gradients(cnn.loss)\n",
    "        train_op = optimizer.apply_gradients(grads_and_vars, global_step=global_step)\n",
    "\n",
    "        # Initialize all variables\n",
    "        sess.run(tf.initialize_all_variables())\n",
    "        sess.run(cnn.W.assign(cnn.model.syn0))\n",
    "\n",
    "        def train_step(x_batch, y_batch):\n",
    "            \"\"\"\n",
    "            A single training step\n",
    "            \"\"\"\n",
    "            feed_dict = {\n",
    "              cnn.input_x: x_batch,\n",
    "              cnn.input_y: y_batch,\n",
    "              cnn.dropout_keep_prob: FLAGS.dropout_keep_prob\n",
    "            }\n",
    "            _, step, summaries, loss, accuracy = sess.run(\n",
    "                [train_op, global_step, train_summary_op, cnn.loss, cnn.accuracy],\n",
    "                feed_dict)\n",
    "\n",
    "        def dev_step(x_batch, y_batch, writer=None):\n",
    "            \"\"\"\n",
    "            Evaluates model on a dev set\n",
    "            \"\"\"\n",
    "            feed_dict = {\n",
    "              cnn.input_x: x_batch,\n",
    "              cnn.input_y: y_batch,\n",
    "              cnn.dropout_keep_prob: 1.0\n",
    "            }\n",
    "            step, summaries, loss, accuracy = sess.run(\n",
    "                [global_step, dev_summary_op, cnn.loss, cnn.accuracy],\n",
    "                feed_dict)\n",
    "\n",
    "        # Generate batches\n",
    "        batches = data_helpers.batch_iter(\n",
    "            list(zip(x_train, y_train)), FLAGS.batch_size, FLAGS.num_epochs)\n",
    "        # Training loop. For each batch...\n",
    "        for batch in batches:\n",
    "            x_batch, y_batch = zip(*batch)\n",
    "            train_step(x_batch, y_batch)\n",
    "            current_step = tf.train.global_step(sess, global_step)\n",
    "            if current_step % FLAGS.evaluate_every == 0:\n",
    "                print(\"\\nEvaluation:\")\n",
    "                dev_step(x_dev, y_dev, writer=dev_summary_writer)\n",
    "                print(\"\")"
   ]
  },
  {
   "cell_type": "code",
   "execution_count": null,
   "metadata": {
    "collapsed": false
   },
   "outputs": [],
   "source": []
  },
  {
   "cell_type": "code",
   "execution_count": null,
   "metadata": {
    "collapsed": true
   },
   "outputs": [],
   "source": []
  }
 ],
 "metadata": {
  "anaconda-cloud": {},
  "kernelspec": {
   "display_name": "Python [conda root]",
   "language": "python",
   "name": "conda-root-py"
  },
  "language_info": {
   "codemirror_mode": {
    "name": "ipython",
    "version": 3
   },
   "file_extension": ".py",
   "mimetype": "text/x-python",
   "name": "python",
   "nbconvert_exporter": "python",
   "pygments_lexer": "ipython3",
   "version": "3.5.2"
  }
 },
 "nbformat": 4,
 "nbformat_minor": 1
}
