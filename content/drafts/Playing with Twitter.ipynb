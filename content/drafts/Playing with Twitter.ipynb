{
 "cells": [
  {
   "cell_type": "markdown",
   "metadata": {},
   "source": [
    "Using   Tweepy    we    can    answer    questions    like:\n",
    "- How    many    friends/followers    do    I    have?\n",
    "- Who    am    I    following    that    is    not    following    me    back?\n",
    "- Who    is    following    me    that    I    am    not    following    back?\n",
    "- Who    are    the    friendliest    and    least    friendly    people    in    my    network?\n",
    "- Who    are    my    “mutual    friends”?\n",
    "- Given     all     of     my     followers     and     all     of     their     followers,     what     is     my     potential     influence     if     I     get     retweeted?\n",
    "\n",
    "In order to authorise our app to access Twitter on our behalf, we need to use the OAuth interface:"
   ]
  },
  {
   "cell_type": "code",
   "execution_count": 5,
   "metadata": {
    "collapsed": false
   },
   "outputs": [],
   "source": [
    "import tweepy\n",
    "import json\n",
    "\n",
    "consumer_key = 'cDQ00bEVQjBBF6nGlZa8LH0kM'\n",
    "consumer_secret = '2Rl0AFVIjL2GqR4Clj1kEsGUCjQZ1aPV8eMPWU4uzqM1T46kCE'\n",
    "access_token = '182051678-CDBnVVFUHFVLt3mD1fsWtHXqA5ojKHhOjDzfmSPs'\n",
    "access_token_secret = 'gqrcFeMVGykVmY7zpNWK6zMW9qoKgBReNdbcHIZ5ZssuH'\n",
    "\n",
    "auth = tweepy.OAuthHandler(consumer_key, consumer_secret)\n",
    "auth.set_access_token(access_token, access_token_secret)\n",
    "\n",
    "api = tweepy.API(auth)"
   ]
  },
  {
   "cell_type": "markdown",
   "metadata": {},
   "source": [
    "The api variable is now our entry point for most of the operations we can perform with Twitter.  We begin by printing tweets on our Twitter homepage."
   ]
  },
  {
   "cell_type": "code",
   "execution_count": 2,
   "metadata": {
    "collapsed": false
   },
   "outputs": [
    {
     "name": "stdout",
     "output_type": "stream",
     "text": [
      "“It’s not about what a machine 'knows' ... but what it ‘does,’ and — more importantly — what it doesn’t do yet.” https://t.co/f8dqgzIiXS\n",
      "RT @GSuiteDevs: Formatting text with the #GoogleSlides API, the latest blog &amp; video from @wescpy. Check it out at https://t.co/ITtR34Jw0s #…\n",
      "Amazon CloudWatch announces detailed billing to CloudWatch Logs! https://t.co/wwmTHIIQvA #CloudComputing https://t.co/rVzWgO5PTq\n",
      "Take a peek at the O'Reilly Media Boston bookshelves #shelfie https://t.co/6lCRySPduh\n",
      "WTF: What’s The Future? @timoreilly @Medium recap of his talk at #WHFrontiers Conference opening for @potus:… https://t.co/nrCs33HGdG\n",
      "NY Times Magazine provides a great inside look at the Google Brain team (https://t.co/6BSGMMfnll) and its history - https://t.co/TQo8X0PgKn\n",
      "RT @gscottwalters: Little bit of everything on my #shelfie. 6 years later, I still use my @OReillyMedia Vi pocket reference. https://t.co/4…\n",
      "RT @waafnet: #Bildung ist sehr wichtig! #shelfie #agenturalltag #waafnet https://t.co/VBcBl9Egma\n",
      "Could a drug prevent depression and PTSD? https://t.co/zLTf18u8Wu https://t.co/XqOBqr2t8g\n",
      "After three months of testing in Pittsburgh, self-driving Ubers expand to the west coast. https://t.co/JwSyW7Cmub\n",
      "Looking for #UI work in #Austin? We're hiring! Apply for our Senior UI Developer position now:… https://t.co/sAJicGgcYd\n",
      "AI creates videos of the future using deep-learning:  https://t.co/N8T0P0wSQ8 https://t.co/I3fDtrnwKj\n",
      "We look forward to welcoming you to campus! #RISD2021 https://t.co/pBXHLoLrYd\n",
      "RT @techreview: Google has an ambitious plan to use artificial intelligence to weed out abusive comments and defang online mobs - https://t…\n",
      "Can't keep up with all the #technews you need? We'll deliver it to your inbox every day for free. Get The Download… https://t.co/aArnpEy7kT\n",
      "#DataScience #Job #Location &gt;&gt; Where Are Data Science Jobs Located? https://t.co/W1YzJHrVO7 https://t.co/BlJY9AedFQ\n",
      "Our colleagues across the pond at O'Reilly Media UK gave us a glimpse of their bookshelves #shelfie https://t.co/KZLKnnQexD\n",
      "RT @Katrina_HRM: Understanding overlaps in identity and how they impact employees. #inclusion #equality @t0nyh0ran @serwathegreat  https://…\n",
      "RT @benhamner: Kaggle just got site search (thanks @JeradRose)! Now easy to find datasets, competitions, kernels, users, posts, jobs, etc.…\n",
      "RT @dennybritz: All Code Implementations for NIPS 2016 papers: https://t.co/KXRtHZMcd0\n"
     ]
    }
   ],
   "source": [
    "# download home timeline tweets and print their texts\n",
    "public_tweets = api.home_timeline()\n",
    "for tweet in public_tweets:\n",
    "    print(tweet.text)"
   ]
  },
  {
   "cell_type": "markdown",
   "metadata": {},
   "source": [
    "Tweepy provides a `Cursor` interface to iterate through different types of objects.  here, we are using 10 to limit the number of tweets we are reading."
   ]
  },
  {
   "cell_type": "code",
   "execution_count": 8,
   "metadata": {
    "collapsed": false
   },
   "outputs": [
    {
     "name": "stdout",
     "output_type": "stream",
     "text": [
      "“It’s not about what a machine 'knows' ... but what it ‘does,’ and — more importantly — what it doesn’t do yet.” https://t.co/f8dqgzIiXS\n",
      "RT @GSuiteDevs: Formatting text with the #GoogleSlides API, the latest blog &amp; video from @wescpy. Check it out at https://t.co/ITtR34Jw0s #…\n",
      "Amazon CloudWatch announces detailed billing to CloudWatch Logs! https://t.co/wwmTHIIQvA #CloudComputing https://t.co/rVzWgO5PTq\n",
      "Take a peek at the O'Reilly Media Boston bookshelves #shelfie https://t.co/6lCRySPduh\n",
      "WTF: What’s The Future? @timoreilly @Medium recap of his talk at #WHFrontiers Conference opening for @potus:… https://t.co/nrCs33HGdG\n",
      "NY Times Magazine provides a great inside look at the Google Brain team (https://t.co/6BSGMMfnll) and its history - https://t.co/TQo8X0PgKn\n",
      "RT @gscottwalters: Little bit of everything on my #shelfie. 6 years later, I still use my @OReillyMedia Vi pocket reference. https://t.co/4…\n",
      "RT @waafnet: #Bildung ist sehr wichtig! #shelfie #agenturalltag #waafnet https://t.co/VBcBl9Egma\n",
      "Could a drug prevent depression and PTSD? https://t.co/zLTf18u8Wu https://t.co/XqOBqr2t8g\n",
      "After three months of testing in Pittsburgh, self-driving Ubers expand to the west coast. https://t.co/JwSyW7Cmub\n"
     ]
    }
   ],
   "source": [
    "# download 10 home timeline tweets and print their texts\n",
    "for tweet in tweepy.Cursor(api.home_timeline).items(10):\n",
    "    print(tweet.text) "
   ]
  },
  {
   "cell_type": "markdown",
   "metadata": {},
   "source": [
    "The code above can be re-written to process/store the JSON."
   ]
  },
  {
   "cell_type": "code",
   "execution_count": 10,
   "metadata": {
    "collapsed": false
   },
   "outputs": [
    {
     "name": "stdout",
     "output_type": "stream",
     "text": [
      "{\"id_str\": \"809104751258255360\", \"possibly_sensitive_appealable\": false, \"retweet_count\": 1, \"lang\": \"en\", \"id\": 809104751258255360, \"place\": null, \"contributors\": null, \"in_reply_to_status_id_str\": null, \"possibly_sensitive\": false, \"in_reply_to_user_id\": null, \"created_at\": \"Wed Dec 14 18:36:19 +0000 2016\", \"text\": \"Amazon CloudWatch adds support for evenly distributing log data from CloudWatch Logs to Amazon Kinesis!\\u2026 https://t.co/jfZ7KqzwFs\", \"favorite_count\": 1, \"favorited\": false, \"retweeted\": false, \"source\": \"<a href=\\\"http://adobe.com\\\" rel=\\\"nofollow\\\">Adobe\\u00ae Social</a>\", \"in_reply_to_status_id\": null, \"in_reply_to_screen_name\": null, \"coordinates\": null, \"is_quote_status\": false, \"geo\": null, \"in_reply_to_user_id_str\": null, \"entities\": {\"urls\": [{\"indices\": [105, 128], \"expanded_url\": \"https://twitter.com/i/web/status/809104751258255360\", \"display_url\": \"twitter.com/i/web/status/8\\u2026\", \"url\": \"https://t.co/jfZ7KqzwFs\"}], \"hashtags\": [], \"symbols\": [], \"user_mentions\": []}, \"user\": {\"is_translation_enabled\": false, \"id_str\": \"66780587\", \"default_profile_image\": false, \"friends_count\": 583, \"translator_type\": \"none\", \"statuses_count\": 10126, \"profile_text_color\": \"000000\", \"lang\": \"en\", \"id\": 66780587, \"profile_image_url_https\": \"https://pbs.twimg.com/profile_images/2900345382/16ffae8c667bdbc6a4969f6f02090652_normal.png\", \"profile_use_background_image\": true, \"notifications\": false, \"description\": \"Official Twitter Feed for Amazon Web Services. New to the cloud? Start here: https://t.co/xICTf1bTeB\", \"profile_background_tile\": true, \"favourites_count\": 452, \"verified\": true, \"profile_link_color\": \"FAA734\", \"profile_background_image_url_https\": \"https://pbs.twimg.com/profile_background_images/554689648/aws_block_bkrnd.png\", \"created_at\": \"Tue Aug 18 19:52:16 +0000 2009\", \"profile_image_url\": \"http://pbs.twimg.com/profile_images/2900345382/16ffae8c667bdbc6a4969f6f02090652_normal.png\", \"profile_banner_url\": \"https://pbs.twimg.com/profile_banners/66780587/1447775917\", \"profile_background_color\": \"646566\", \"profile_sidebar_border_color\": \"FFFFFF\", \"has_extended_profile\": false, \"utc_offset\": -28800, \"protected\": false, \"time_zone\": \"Pacific Time (US & Canada)\", \"listed_count\": 4989, \"location\": \"Seattle, WA\", \"is_translator\": false, \"profile_background_image_url\": \"http://pbs.twimg.com/profile_background_images/554689648/aws_block_bkrnd.png\", \"profile_sidebar_fill_color\": \"DBF1FD\", \"entities\": {\"description\": {\"urls\": [{\"indices\": [77, 100], \"expanded_url\": \"http://aws.amazon.com/what-is-cloud-computing/\", \"display_url\": \"aws.amazon.com/what-is-cloud-\\u2026\", \"url\": \"https://t.co/xICTf1bTeB\"}]}, \"url\": {\"urls\": [{\"indices\": [0, 23], \"expanded_url\": \"http://aws.amazon.com\", \"display_url\": \"aws.amazon.com\", \"url\": \"https://t.co/8QQO0BCGlY\"}]}}, \"contributors_enabled\": false, \"geo_enabled\": true, \"following\": true, \"screen_name\": \"awscloud\", \"name\": \"Amazon Web Services\", \"follow_request_sent\": false, \"followers_count\": 1009253, \"default_profile\": false, \"url\": \"https://t.co/8QQO0BCGlY\"}, \"truncated\": true}\n"
     ]
    }
   ],
   "source": [
    "def process_or_store(tweet):\n",
    "    print(json.dumps(tweet))\n",
    "\n",
    "# download 1 home timeline tweet and store the json\n",
    "for tweet in tweepy.Cursor(api.home_timeline).items(1):\n",
    "    process_or_store(tweet._json)"
   ]
  },
  {
   "cell_type": "code",
   "execution_count": 11,
   "metadata": {
    "collapsed": false
   },
   "outputs": [
    {
     "name": "stdout",
     "output_type": "stream",
     "text": [
      "{\"is_translation_enabled\": false, \"default_profile_image\": false, \"statuses_count\": 1162, \"lang\": \"en\", \"notifications\": false, \"profile_sidebar_fill_color\": \"000000\", \"verified\": false, \"profile_link_color\": \"A41034\", \"profile_sidebar_border_color\": \"000000\", \"created_at\": \"Sat Jan 17 01:27:04 +0000 2015\", \"location\": \"\", \"utc_offset\": -28800, \"time_zone\": \"Pacific Time (US & Canada)\", \"listed_count\": 232, \"profile_background_color\": \"000000\", \"has_extended_profile\": false, \"profile_background_image_url_https\": \"https://abs.twimg.com/images/themes/theme1/bg.png\", \"id\": 2981968107, \"following\": true, \"screen_name\": \"ryan_p_adams\", \"followers_count\": 6860, \"entities\": {\"description\": {\"urls\": []}, \"url\": {\"urls\": [{\"indices\": [0, 23], \"expanded_url\": \"http://people.seas.harvard.edu/~rpa\", \"display_url\": \"people.seas.harvard.edu/~rpa\", \"url\": \"https://t.co/1fEpM2vCvC\"}]}}, \"profile_image_url_https\": \"https://pbs.twimg.com/profile_images/557200374004604928/2-PTzerp_normal.jpeg\", \"id_str\": \"2981968107\", \"friends_count\": 665, \"translator_type\": \"none\", \"default_profile\": false, \"status\": {\"id_str\": \"808707344024662017\", \"retweet_count\": 71, \"lang\": \"en\", \"retweeted_status\": {\"id_str\": \"808681615106961409\", \"retweet_count\": 71, \"lang\": \"en\", \"place\": null, \"contributors\": null, \"in_reply_to_status_id_str\": null, \"possibly_sensitive\": false, \"in_reply_to_user_id\": null, \"created_at\": \"Tue Dec 13 14:34:56 +0000 2016\", \"text\": \"For those interested in joining our new Google Brain group in Montreal, applications can be submitted here! https://t.co/V77AkbXcDE\", \"favorite_count\": 155, \"favorited\": false, \"retweeted\": false, \"source\": \"<a href=\\\"http://twitter.com\\\" rel=\\\"nofollow\\\">Twitter Web Client</a>\", \"in_reply_to_status_id\": null, \"in_reply_to_screen_name\": null, \"coordinates\": null, \"is_quote_status\": false, \"geo\": null, \"in_reply_to_user_id_str\": null, \"entities\": {\"urls\": [{\"indices\": [108, 131], \"expanded_url\": \"https://www.google.com/about/careers/jobs#!t=jo&jid=/google/research-scientist-google-brain-1253-mcgill-college-ave-montreal-qc-2178820020\", \"display_url\": \"google.com/about/careers/\\u2026\", \"url\": \"https://t.co/V77AkbXcDE\"}], \"hashtags\": [], \"symbols\": [], \"user_mentions\": []}, \"id\": 808681615106961409, \"truncated\": false}, \"place\": null, \"contributors\": null, \"in_reply_to_status_id_str\": null, \"in_reply_to_user_id\": null, \"created_at\": \"Tue Dec 13 16:17:10 +0000 2016\", \"text\": \"RT @hugo_larochelle: For those interested in joining our new Google Brain group in Montreal, applications can be submitted here! https://t.\\u2026\", \"favorite_count\": 0, \"favorited\": false, \"retweeted\": false, \"source\": \"<a href=\\\"http://twitter.com\\\" rel=\\\"nofollow\\\">Twitter Web Client</a>\", \"in_reply_to_status_id\": null, \"in_reply_to_screen_name\": null, \"coordinates\": null, \"is_quote_status\": false, \"geo\": null, \"in_reply_to_user_id_str\": null, \"entities\": {\"urls\": [], \"hashtags\": [], \"symbols\": [], \"user_mentions\": [{\"indices\": [3, 19], \"screen_name\": \"hugo_larochelle\", \"name\": \"Hugo Larochelle\", \"id_str\": \"3333052551\", \"id\": 3333052551}]}, \"id\": 808707344024662017, \"truncated\": false}, \"geo_enabled\": true, \"profile_text_color\": \"000000\", \"profile_use_background_image\": false, \"description\": \"Computer Science Professor (@Harvard), Machine Learning Researcher, Entrepreneur (@Whetlab, sold to @Twitter), Podcaster (@TlkngMchns), Dad, Sports Fan\", \"profile_background_tile\": false, \"favourites_count\": 1336, \"blocking\": false, \"blocked_by\": false, \"profile_image_url\": \"http://pbs.twimg.com/profile_images/557200374004604928/2-PTzerp_normal.jpeg\", \"follow_request_sent\": false, \"protected\": false, \"live_following\": false, \"is_translator\": false, \"profile_background_image_url\": \"http://abs.twimg.com/images/themes/theme1/bg.png\", \"contributors_enabled\": false, \"muting\": false, \"name\": \"Ryan Adams\", \"url\": \"https://t.co/1fEpM2vCvC\"}\n"
     ]
    }
   ],
   "source": [
    "# download 1 follower and store the json\n",
    "for friend in tweepy.Cursor(api.friends).items(1):\n",
    "    process_or_store(friend._json)"
   ]
  },
  {
   "cell_type": "code",
   "execution_count": 14,
   "metadata": {
    "collapsed": false
   },
   "outputs": [
    {
     "ename": "TypeError",
     "evalue": "the JSON object must be str, not 'User'",
     "output_type": "error",
     "traceback": [
      "\u001b[0;31m---------------------------------------------------------------------------\u001b[0m",
      "\u001b[0;31mTypeError\u001b[0m                                 Traceback (most recent call last)",
      "\u001b[0;32m<ipython-input-14-8f876ea67e33>\u001b[0m in \u001b[0;36m<module>\u001b[0;34m()\u001b[0m\n\u001b[1;32m      1\u001b[0m \u001b[0;31m# download 1 follower and store the json\u001b[0m\u001b[0;34m\u001b[0m\u001b[0;34m\u001b[0m\u001b[0m\n\u001b[1;32m      2\u001b[0m \u001b[0;32mfor\u001b[0m \u001b[0mfriend\u001b[0m \u001b[0;32min\u001b[0m \u001b[0mtweepy\u001b[0m\u001b[0;34m.\u001b[0m\u001b[0mCursor\u001b[0m\u001b[0;34m(\u001b[0m\u001b[0mapi\u001b[0m\u001b[0;34m.\u001b[0m\u001b[0mfriends\u001b[0m\u001b[0;34m)\u001b[0m\u001b[0;34m.\u001b[0m\u001b[0mitems\u001b[0m\u001b[0;34m(\u001b[0m\u001b[0;36m1\u001b[0m\u001b[0;34m)\u001b[0m\u001b[0;34m:\u001b[0m\u001b[0;34m\u001b[0m\u001b[0m\n\u001b[0;32m----> 3\u001b[0;31m     \u001b[0mparsed_json\u001b[0m \u001b[0;34m=\u001b[0m \u001b[0mjson\u001b[0m\u001b[0;34m.\u001b[0m\u001b[0mloads\u001b[0m\u001b[0;34m(\u001b[0m\u001b[0mfriend\u001b[0m\u001b[0;34m)\u001b[0m\u001b[0;34m\u001b[0m\u001b[0m\n\u001b[0m",
      "\u001b[0;32m/Users/alexis/anaconda/lib/python3.5/json/__init__.py\u001b[0m in \u001b[0;36mloads\u001b[0;34m(s, encoding, cls, object_hook, parse_float, parse_int, parse_constant, object_pairs_hook, **kw)\u001b[0m\n\u001b[1;32m    310\u001b[0m     \u001b[0;32mif\u001b[0m \u001b[0;32mnot\u001b[0m \u001b[0misinstance\u001b[0m\u001b[0;34m(\u001b[0m\u001b[0ms\u001b[0m\u001b[0;34m,\u001b[0m \u001b[0mstr\u001b[0m\u001b[0;34m)\u001b[0m\u001b[0;34m:\u001b[0m\u001b[0;34m\u001b[0m\u001b[0m\n\u001b[1;32m    311\u001b[0m         raise TypeError('the JSON object must be str, not {!r}'.format(\n\u001b[0;32m--> 312\u001b[0;31m                             s.__class__.__name__))\n\u001b[0m\u001b[1;32m    313\u001b[0m     \u001b[0;32mif\u001b[0m \u001b[0ms\u001b[0m\u001b[0;34m.\u001b[0m\u001b[0mstartswith\u001b[0m\u001b[0;34m(\u001b[0m\u001b[0;34mu'\\ufeff'\u001b[0m\u001b[0;34m)\u001b[0m\u001b[0;34m:\u001b[0m\u001b[0;34m\u001b[0m\u001b[0m\n\u001b[1;32m    314\u001b[0m         raise JSONDecodeError(\"Unexpected UTF-8 BOM (decode using utf-8-sig)\",\n",
      "\u001b[0;31mTypeError\u001b[0m: the JSON object must be str, not 'User'"
     ]
    }
   ],
   "source": [
    "# download 1 follower and store the json\n",
    "for friend in tweepy.Cursor(api.friends).items(1):\n",
    "    parsed_json = json.loads(friend)"
   ]
  },
  {
   "cell_type": "code",
   "execution_count": 12,
   "metadata": {
    "collapsed": false
   },
   "outputs": [
    {
     "name": "stdout",
     "output_type": "stream",
     "text": [
      "alexis_b_cook\n",
      "28\n",
      "ryan_p_adams\n",
      "stanfordnlp\n",
      "dennybritz\n",
      "radar\n",
      "antgoldbloom\n",
      "OReillyMedia\n",
      "MSFTResearch\n",
      "tensorflow\n",
      "Google\n",
      "mxlearn\n",
      "googledevs\n",
      "ThePSF\n",
      "ContinuumIO\n",
      "YhatHQ\n",
      "MIT_CSAIL\n",
      "TEDTalks\n",
      "NandoDF\n",
      "karpathy\n",
      "drfeifei\n",
      "ylecun\n"
     ]
    }
   ],
   "source": [
    "user = api.get_user('alexis_b_cook')\n",
    "print(user.screen_name)\n",
    "print(user.followers_count)\n",
    "for friend in user.friends():\n",
    "   print(friend.screen_name)"
   ]
  },
  {
   "cell_type": "code",
   "execution_count": null,
   "metadata": {
    "collapsed": false
   },
   "outputs": [],
   "source": []
  },
  {
   "cell_type": "code",
   "execution_count": null,
   "metadata": {
    "collapsed": true
   },
   "outputs": [],
   "source": []
  }
 ],
 "metadata": {
  "anaconda-cloud": {},
  "kernelspec": {
   "display_name": "Python [conda root]",
   "language": "python",
   "name": "conda-root-py"
  },
  "language_info": {
   "codemirror_mode": {
    "name": "ipython",
    "version": 3
   },
   "file_extension": ".py",
   "mimetype": "text/x-python",
   "name": "python",
   "nbconvert_exporter": "python",
   "pygments_lexer": "ipython3",
   "version": "3.5.2"
  }
 },
 "nbformat": 4,
 "nbformat_minor": 1
}
