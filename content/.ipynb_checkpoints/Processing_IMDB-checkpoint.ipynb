{
 "cells": [
  {
   "cell_type": "markdown",
   "metadata": {},
   "source": [
    "We work with a dataset containing 50,000 movie reviews from IMDB, labeled by sentiment (positive/negative).  In addition, there are another 50,000 IMDB reviews provided without any rating labels.  \n",
    "\n",
    "The reviews are split evenly into train and test sets (25k train and 25k test). The overall distribution of labels is also balanced within the train and test sets (12.5k pos and 12.5k neg).  Our ultimate goal is to see how well we can predict sentiment in the test dataset. "
   ]
  },
  {
   "cell_type": "code",
   "execution_count": 1,
   "metadata": {
    "collapsed": false
   },
   "outputs": [
    {
     "name": "stderr",
     "output_type": "stream",
     "text": [
      "/Users/alexis/anaconda/lib/python3.5/site-packages/gensim/utils.py:1015: UserWarning: Pattern library is not installed, lemmatization won't be available.\n",
      "  warnings.warn(\"Pattern library is not installed, lemmatization won't be available.\")\n"
     ]
    }
   ],
   "source": [
    "import os                                # accessing directory of files\n",
    "import pandas as pd                      # storing the data\n",
    "from bs4 import BeautifulSoup            # removing HTML tags\n",
    "import re                                # text processing with regular expressions\n",
    "import nltk.data                         # sentence splitting\n",
    "import logging                           # output messages for word2vec embedding step\n",
    "from gensim.models import word2vec       # embedding algorithm\n",
    "import numpy as np                       # arrays and other mathy structures     \n",
    "import seaborn as sns                    # pretty plots\n",
    "from tqdm import tqdm                    # timing algorithms\n",
    "from sklearn.manifold import TSNE        # reducing embeddings to 2-D\n",
    "import matplotlib.pyplot as plt, mpld3   # plots\n",
    "%matplotlib inline                       \n",
    "\n",
    "# If you are using Python 3, you will get an error.\n",
    "# (Pattern is a Python 2 library and fails to install for Python 3.)"
   ]
  },
  {
   "cell_type": "markdown",
   "metadata": {},
   "source": [
    "The dataset can be downloaded [here](http://ai.stanford.edu/~amaas/data/sentiment/).  We first write code to extract the reviews into Pandas dataframes.  We also record the sentiment of the review, when it is available."
   ]
  },
  {
   "cell_type": "code",
   "execution_count": 2,
   "metadata": {
    "collapsed": false
   },
   "outputs": [],
   "source": [
    "def load_data(directory_name):\n",
    "    # load dataset from directory to Pandas dataframe\n",
    "    data = []\n",
    "    files = [f for f in os.listdir('../../aclImdb/' + directory_name)]\n",
    "    for f in files:\n",
    "        with open('../../aclImdb/' + directory_name + f, \"r\", encoding = 'utf-8') as myfile:\n",
    "            data.append(myfile.read())\n",
    "    df = pd.DataFrame({'review': data, 'file': files})\n",
    "    return df\n",
    "\n",
    "def add_sentiment(df, sentiment):\n",
    "    # add sentiment column to Pandas dataframe\n",
    "    df = df.join(pd.DataFrame({'sentiment': sentiment*np.ones(df.size)}))\n",
    "    return df"
   ]
  },
  {
   "cell_type": "markdown",
   "metadata": {},
   "source": [
    "`train_pos`, `train_neg`, `test_pos`, `test_neg`, and `unsup` are Pandas dataframes.  They have either two or three columns, taken from the following potential set of columns:\n",
    "- `sentiment` $\\in \\{0,1\\}$ : indicates pos (1) or neg (0) sentiment\n",
    "- `file` : name of file that contains review\n",
    "- `review` : the full text of the review"
   ]
  },
  {
   "cell_type": "code",
   "execution_count": 3,
   "metadata": {
    "collapsed": false
   },
   "outputs": [],
   "source": [
    "# load training dataset\n",
    "train_pos = load_data('train/pos/')\n",
    "train_pos = add_sentiment(train_pos, 1)\n",
    "\n",
    "train_neg = load_data('train/neg/')\n",
    "train_neg = add_sentiment(train_neg, 0)\n",
    "\n",
    "# load test dataset\n",
    "test_pos = load_data('test/pos/')\n",
    "test_pos = add_sentiment(test_pos, 1)\n",
    "\n",
    "test_neg = load_data('test/neg/')\n",
    "test_neg = add_sentiment(test_neg, 0)\n",
    "\n",
    "# load unsupervised dataset\n",
    "unsup = load_data('train/unsup/')"
   ]
  },
  {
   "cell_type": "markdown",
   "metadata": {},
   "source": [
    "Next, we ensure that the dataset was downloaded properly (... technically, not sufficient but necesssary condition ...), by counting the total number of reviews of each type."
   ]
  },
  {
   "cell_type": "code",
   "execution_count": 4,
   "metadata": {
    "collapsed": false
   },
   "outputs": [
    {
     "name": "stdout",
     "output_type": "stream",
     "text": [
      "\n",
      " 12500 pos train reviews \n",
      " 12500 neg train reviews \n",
      " 12500 pos test reviews \n",
      " 12500 neg test reviews \n",
      " 50000 unsup reviews\n",
      "\n",
      " TOTAL: 100000 reviews\n"
     ]
    }
   ],
   "source": [
    "print(\"\\n %d pos train reviews \\n %d neg train reviews \\n %d pos test reviews \\n %d neg test reviews \\n %d unsup reviews\" \\\n",
    "      % (train_pos.shape[0], train_neg.shape[0], test_pos.shape[0], test_neg.shape[0], unsup.shape[0]))\n",
    "print(\"\\n TOTAL: %d reviews\" % int(train_pos.shape[0] + train_neg.shape[0] + test_pos.shape[0] + test_neg.shape[0] + unsup.shape[0]))"
   ]
  },
  {
   "cell_type": "markdown",
   "metadata": {},
   "source": [
    "We need to clean each review, in order to help our algorithm find meaningful relationships between different reviews.  We will convert each review into a list of lists (specifically, a list of sentences, each one a list of words).\n",
    "\n",
    "Our function `review_to_wordlist` processes each review as follows:\n",
    "- Punctuation is made consistent through the use of regular expressions.\n",
    "- HTML tags are removed through the use of the Beautiful Soup library.\n",
    "- All words are converted to lowercase.\n",
    "- Each sentence string is converted into a list of words through the use of NLTK's `punkt` tokenizer.\n",
    "\n",
    "Our function `corpus_to_list` repeatedly applies `review_to_wordlist` to each review in a corpus supplied in the form of a Pandas dataframe.\n",
    "\n",
    "We note that there is still some room for improvement.  For instance, \n",
    "- Strings like \"Sgt. Cutter\" currently are broken into two sentences.  We should figure out how to differentiate between periods that signify the end of an abbreviation and periods that denote the end of a sentence.\n",
    "- Some writers separate their sentences with commas or line breaks; the algorithm currently absorbs these multiple sentences into an individual sentence.\n",
    "- Ellipses are currently processed as multiple, empty sentences (which are then discarded).\n",
    "\n",
    "Before writing this post, I read the Kaggle tutorial [here](https://www.kaggle.com/c/word2vec-nlp-tutorial/details/part-2-word-vectors).  My current processing algorithm borrows from that page, but also adds some meaningful improvements, partially informed by the algorithm [here](https://github.com/yoonkim/CNN_sentence/blob/master/process_data.py).  For instance, \n",
    "- We keep the punctuation that ends each sentence (i.e., period vs. exclamation point), whereas punctuation was discarded in the Kaggle tutorial.  \n",
    "- Smarter processing of contractions, in a way that understands that \"should've\" = \"should\" + \"'ve\", for instance, could also prove useful for language understanding."
   ]
  },
  {
   "cell_type": "code",
   "execution_count": 5,
   "metadata": {
    "collapsed": true
   },
   "outputs": [],
   "source": [
    "tokenizer = nltk.data.load('tokenizers/punkt/english.pickle')\n",
    "\n",
    "def clean_str(string):\n",
    "    # Function that cleans text using regular expressions\n",
    "    string = re.sub(r' +', ' ', string)\n",
    "    string = re.sub(r'\\.+', '.', string)\n",
    "    string = re.sub(r'\\.(?! )', '. ', string)    \n",
    "    string = re.sub(r\"\\'s\", \" \\'s\", string) \n",
    "    string = re.sub(r\"\\'ve\", \" \\'ve\", string) \n",
    "    string = re.sub(r\"n\\'t\", \" n\\'t\", string) \n",
    "    string = re.sub(r\"\\'re\", \" \\'re\", string) \n",
    "    string = re.sub(r\"\\'m\", \" \\'m\", string) \n",
    "    string = re.sub(r\"\\'d\", \" \\'d\", string) \n",
    "    string = re.sub(r\"\\'ll\", \" \\'ll\", string) \n",
    "    string = re.sub(r\",\", \" , \", string) \n",
    "    string = re.sub(r\"!\", \" ! \", string) \n",
    "    string = re.sub(r\"\\(\", \" ( \", string) \n",
    "    string = re.sub(r\"\\)\", \" ) \", string) \n",
    "    string = re.sub(r\"\\?\", \" ? \", string) \n",
    "    string = re.sub(r\"\\.\", \" . \", string)\n",
    "    string = re.sub(r\"\\-\", \" - \", string)\n",
    "    string = re.sub(r\"\\;\", \" ; \", string)\n",
    "    string = re.sub(r\"\\:\", \" : \", string)\n",
    "    string = re.sub(r'\\\"', ' \" ', string)\n",
    "    string = re.sub(r'\\/', ' / ', string)\n",
    "    return string\n",
    "\n",
    "def review_to_word_list( review, tokenizer ):\n",
    "    #\n",
    "    # Function to turn each review into a list of sentences, \n",
    "    # where each sentence is a list of words\n",
    "    #\n",
    "    # 1. Process punctuation, excessive periods, missing spaces \n",
    "    review = clean_str(review)\n",
    "    #\n",
    "    # 2. Remove HTML tags \n",
    "    review = BeautifulSoup(review, \"lxml\").get_text()\n",
    "    #\n",
    "    # 3. Use the NLTK tokenizer to split the review into list of sentences\n",
    "    #   (getting rid of extra spaces at front/back)\n",
    "    raw_sentences = tokenizer.tokenize(review.strip())\n",
    "    #\n",
    "    # 4. Loop over each sentence to get list of list of lowercase words\n",
    "    sentences = []\n",
    "    for raw_sentence in raw_sentences:\n",
    "        # Convert to lowercase and split into list of words\n",
    "        raw_sentence = raw_sentence.lower().split()\n",
    "        # If a sentence is not long enough, skip it\n",
    "        if len(raw_sentence) > 1:\n",
    "            # add list of words to returned object\n",
    "            sentences.append( raw_sentence )\n",
    "    #\n",
    "    # Return the list of sentences (each sentence is a list of words,\n",
    "    # so this returns a list of lists\n",
    "    return sentences"
   ]
  },
  {
   "cell_type": "code",
   "execution_count": 6,
   "metadata": {
    "collapsed": false
   },
   "outputs": [],
   "source": [
    "def corpus_to_list(df, tokenizer):\n",
    "    # Turns dataframe of reviews into a list of sentences,\n",
    "    # where each sentence is a list of words\n",
    "    # and sentences are derived from *all reviews* in dataframe df\n",
    "    sentences = []\n",
    "    for idx in tqdm(df.index):\n",
    "        to_append = review_to_word_list(df.ix[idx, 'review'], tokenizer)\n",
    "        sentences += to_append\n",
    "    return sentences"
   ]
  },
  {
   "cell_type": "markdown",
   "metadata": {},
   "source": [
    "We pass each Pandas dataframe through `corpus_to_list` to get corresponding lists of lists of words."
   ]
  },
  {
   "cell_type": "code",
   "execution_count": 7,
   "metadata": {
    "collapsed": false
   },
   "outputs": [
    {
     "name": "stderr",
     "output_type": "stream",
     "text": [
      "100%|██████████| 12500/12500 [00:12<00:00, 1008.13it/s]\n",
      "100%|██████████| 12500/12500 [00:12<00:00, 1036.81it/s]\n",
      "100%|██████████| 12500/12500 [00:12<00:00, 998.88it/s] \n",
      "100%|██████████| 12500/12500 [00:12<00:00, 1035.35it/s]\n",
      "100%|██████████| 50000/50000 [00:50<00:00, 998.34it/s]\n"
     ]
    }
   ],
   "source": [
    "train_pos_sentences = corpus_to_list(train_pos, tokenizer)\n",
    "train_neg_sentences = corpus_to_list(train_neg, tokenizer)\n",
    "test_pos_sentences = corpus_to_list(test_pos, tokenizer)\n",
    "test_neg_sentences = corpus_to_list(test_neg, tokenizer)\n",
    "unsup_sentences = corpus_to_list(unsup, tokenizer)"
   ]
  },
  {
   "cell_type": "markdown",
   "metadata": {},
   "source": [
    "We next identify the lengths of the longest and shortest sentences in each collection."
   ]
  },
  {
   "cell_type": "code",
   "execution_count": 8,
   "metadata": {
    "collapsed": false
   },
   "outputs": [],
   "source": [
    "def extreme_sentences(sentences):\n",
    "    # prints shortest and longest sentence in a list (sentences)\n",
    "    (tmp, longest_sentence) = max(enumerate(sentences), key = lambda sentences: len(sentences[1]))   \n",
    "    (tmp, shortest_sentence) = min(enumerate(sentences), key = lambda sentences: len(sentences[1]))\n",
    "    print(\"The longest sentence has %s words.\" % len(longest_sentence))\n",
    "    print(\"The shortest sentence has %s words.\" % len(shortest_sentence))\n",
    "    print(longest_sentence)\n",
    "    print(\"Shortest sentence:\", shortest_sentence, '\\n')"
   ]
  },
  {
   "cell_type": "code",
   "execution_count": 9,
   "metadata": {
    "collapsed": false
   },
   "outputs": [
    {
     "name": "stdout",
     "output_type": "stream",
     "text": [
      "Extreme sentence statistics for train_pos_sentences:\n",
      "The longest sentence has 278 words.\n",
      "The shortest sentence has 2 words.\n",
      "['it', \"'s\", 'a', 'genuine', 'shame', 'that', 'this', 'spin', '-', 'off', 'tv', 'series', 'inspired', 'by', 'the', 'superior', 'made', '-', 'for', '-', 'tv', 'pictures', '\"', 'the', 'night', 'stalker', '\"', 'and', '\"', 'the', 'night', 'strangler', '\"', 'only', 'lasted', 'a', 'single', 'season', 'and', 'twenty', 'episodes', ',', 'because', 'at', 'its', 'best', 'this', 'program', 'offered', 'an', 'often', 'winning', 'and', 'highly', 'entertaining', 'blend', 'of', 'sharp', 'cynical', 'humor', '(', 'carl', 'kolchak', \"'s\", 'spirited', 'verbal', 'sparring', 'matches', 'with', 'perpetually', 'irascible', 'and', 'long', '-', 'suffering', 'editor', 'tony', 'vincenzo', 'were', 'always', 'a', 'treat', 'to', 'watch', 'and', 'hear', ')', ',', 'clever', 'writing', ',', 'nifty', 'supernatural', 'menaces', '(', 'gotta', 'love', 'the', 'offbeat', 'and', 'original', 'creatures', 'in', '\"', 'the', 'spanish', 'moss', 'murders', ',', '\"', '\"', 'the', 'sentry', ',', '\"', 'and', '\"', 'horror', 'in', 'the', 'heights', ',', '\"', 'plus', 'you', 'ca', \"n't\", 'go', 'wrong', 'with', 'such', \"tried'\", \"n'true\", 'fright', 'favorites', 'as', 'zombies', ',', 'vampires', ',', 'werewolves', ',', 'and', 'witches', ')', ',', 'colorful', 'characters', ',', 'lively', 'acting', 'from', 'a', 'raft', 'of', 'cool', 'guest', 'stars', '(', 'legendary', 'biker', 'flick', 'icon', 'william', 'smith', 'got', 'a', 'rare', 'chance', 'to', 'tackle', 'a', 'heroic', 'lead', 'in', '\"', 'the', 'energy', 'eater', '\"', 'while', 'other', 'episodes', 'featured', 'great', 'veteran', 'character', 'actors', 'like', 'keenan', 'wynn', ',', 'john', 'fiedler', ',', 'john', 'dehner', ',', 'severn', 'darden', ',', 'and', 'william', 'daniels', 'in', 'juicy', 'roles', ')', ',', 'effective', 'moments', 'of', 'genuine', 'suspense', '(', 'the', 'sewer', '-', 'set', 'climax', 'of', '\"', 'the', 'spanish', 'moss', 'murders', '\"', 'in', 'particular', 'was', 'truly', 'harrowing', ')', ',', 'and', ',', 'best', 'of', 'all', ',', 'the', 'one', 'and', 'only', 'darren', 'mcgavin', 'in', 'peak', 'zesty', 'form', 'as', 'the', 'brash', ',', 'aggressive', ',', 'and', 'excitable', ',', 'but', 'basically', 'decent', ',', 'brave', ',', 'and', 'honest', 'small', '-', 'time', 'chicago', ',', 'illinois', 'newspaper', 'reporter', 'carl', 'kolchak', '.']\n",
      "Shortest sentence: ['at', '.'] \n",
      "\n",
      "Extreme sentence statistics for train_neg_sentences:\n",
      "The longest sentence has 376 words.\n",
      "The shortest sentence has 2 words.\n",
      "['since', 'most', 'review', \"'s\", 'of', 'this', 'film', 'are', 'of', 'screening', \"'s\", 'seen', 'decade', \"'s\", 'ago', 'i', \"'d\", 'like', 'to', 'add', 'a', 'more', 'recent', 'one', ',', 'the', 'film', 'open', \"'s\", 'with', 'stock', 'footage', 'of', 'b', '-', '17', \"'s\", 'bombing', 'germany', ',', 'the', 'film', 'cut', \"'s\", 'to', 'oskar', 'werner', \"'s\", 'hauptmann', '(', 'captain', ')', 'wust', 'character', 'and', 'his', 'aide', 'running', 'for', 'cover', 'while', 'making', 'their', 'way', 'to', 'hitler', \"'s\", 'fuehrer', 'bunker', ',', 'once', 'inside', ',', 'they', 'are', 'debriefed', 'by', 'bunker', 'staff', 'personnel', ',', 'the', 'film', 'then', 'cut', \"'s\", 'to', 'one', 'of', 'many', 'conference', 'scene', \"'s\", 'with', 'albin', 'skoda', 'giving', 'a', 'decent', 'impression', 'of', 'adolf', 'hitler', 'rallying', 'his', 'officer', \"'s\", 'to', '\"', 'ultimate', 'victory', '\"', 'while', 'werner', \"'s\", 'character', 'is', 'shown', 'as', 'slowly', 'coming', 'to', 'realize', 'the', 'bunker', 'denizen', \"'s\", 'are', 'caught', 'up', 'in', 'a', 'fantasy', 'world', '-', 'some', 'non', '-', 'bunker', 'event', \"'s\", 'are', 'depicted', ',', 'most', 'notable', 'being', 'the', 'flooding', 'of', 'the', 'subway', 'system', 'to', 'prevent', 'a', 'russian', 'advance', 'through', 'them', 'and', 'a', 'minor', 'subplot', 'involving', 'a', 'young', 'member', 'of', 'the', 'flak', 'unit', \"'s\", 'and', 'his', 'family', \"'s\", 'difficulty', 'in', 'surviving', '-', 'this', 'film', 'suffer', \"'s\", 'from', 'a', 'number', 'of', 'detail', 'inaccuracies', 'that', 'a', 'german', 'film', 'made', 'only', '10', 'year', \"'s\", 'after', 'ww2', 'should', 'not', 'have', 'included', ';', 'the', 'actor', 'portraying', 'goebbels', '(', 'willy', 'krause', ')', 'wear', \"'s\", 'the', 'same', 'uniform', 'as', 'hitler', ',', 'including', 'arm', 'eagle', '-', 'goebbels', 'wore', 'a', 'brown', 'nazi', 'party', 'uniform', 'with', 'swastika', 'armband', '-', 'the', '\"', 'ss', '\"', 'soldier', \"'s\", 'wear', 'german', 'army', 'camouflage', ',', 'the', 'well', 'documented', 'scene', 'of', 'hitler', 'awarding', 'the', 'iron', 'cross', 'to', 'boy', \"'s\", 'of', 'the', 'hitler', 'youth', 'is', 'shown', 'as', 'having', 'taken', 'place', 'inside', 'the', 'bunker', '(', 'it', 'was', 'done', 'outside', 'in', 'the', 'courtyard', ')', 'and', 'lastly', ',', 'hitler', \"'s\", 'suicide', 'weapon', 'is', 'clearly', 'shown', 'as', 'a', 'belgian', 'browning', 'model', '1922', '-', 'most', 'account', \"'s\", 'agree', 'it', 'was', 'a', 'walther', 'ppk', '-', 'some', 'bit', \"'s\", 'of', 'acting', 'also', 'seem', 'wholly', 'inaccurate', 'with', 'the', 'drunken', 'dance', 'scene', 'near', 'the', 'end', 'of', 'the', 'film', 'being', 'notable', ',', 'this', 'bit', 'is', 'shown', 'as', 'a', 'cabaret', 'skit', ',', 'with', 'a', 'intoxicated', 'wounded', 'soldier', '(', 'his', 'arm', 'in', 'a', 'splint', ')', 'maniacally', 'goose', '-', 'stepping', 'to', 'music', 'while', 'a', 'nurse', 'does', 'a', 'combination', 'striptease', '/', 'belly', 'dance', ',', 'all', 'by', 'candlelight', '.']\n",
      "Shortest sentence: ['boring', '.'] \n",
      "\n",
      "Extreme sentence statistics for test_pos_sentences:\n",
      "The longest sentence has 377 words.\n",
      "The shortest sentence has 2 words.\n",
      "['thomas', 'housing', 'project', 'and', 'angola', 'prison', 'in', 'new', 'orleans', ',', '\"', 'dead', 'man', 'walking', '\"', 'is', 'the', 'true', 'story', 'of', 'helen', 'prejean', '(', 'susan', 'sarandon', ')', ',', 'a', 'louisiana', 'nun', 'sister', 'who', 'befriended', 'matthew', 'poncelet', '(', 'sean', 'penn', ')', ',', 'a', 'murderer', 'and', 'a', 'rapist', 'bound', 'for', 'a', 'lethal', 'injection', 'machine', 'for', 'killing', 'a', 'teenage', 'couple', 'sister', 'helen', 'agrees', 'to', 'help', 'the', 'convict', 'and', 'to', 'remain', 'with', 'him', 'till', 'the', 'end\\x97an', 'act', 'never', 'before', 'attempted', 'by', 'a', 'woman', 'at', 'their', 'first', 'meeting', ',', 'poncelet', 'swears', 'to', 'the', 'nun', 'that', 'his', 'accomplice', 'was', 'the', 'one', 'who', 'shot', 'both', 'of', 'the', 'kids', 'and', 'pleads', 'her', 'help', 'for', 'a', 'new', 'trial', 'in', 'order', 'to', 'convince', 'the', 'pardon', 'board', 'hearing', 'to', 'spare', 'his', 'life', 'the', 'film', 'challenges', 'the', 'audience', 'to', 'actually', 'give', 'some', 'thought', 'to', 'the', 'human', 'consequences', 'of', 'the', 'death', 'penalty', ',', 'but', 'gives', 'voice', 'to', 'angry', 'bereaved', 'parents', 'whose', 'kids', 'were', 'shot', ',', 'stabbed', ',', 'raped', ',', 'and', 'left', 'in', 'the', 'woods', 'to', 'die', 'alone', 'as', 'poncelet', \"'s\", 'execution', 'looms', 'closer', 'and', 'closer', ',', 'his', 'character', 'is', 'seen', 'deceptively', 'complex', ',', 'harboring', 'doubts', 'about', 'the', 'rightness', 'of', 'what', 'they', 'were', 'doing', 'to', 'him', 'in', 'one', 'moment', ',', 'we', 'hear', 'him', 'sensitive', 'asking', 'for', 'a', 'lie', 'detector', 'test', 'to', 'let', 'his', 'mother', 'know', 'that', 'he', 'is', 'innocent', ',', 'in', 'another', 'we', 'see', 'him', 'furious', 'playing', 'the', 'victim', ',', 'blaming', 'the', 'government', ',', 'drugs', ',', 'blacks', ',', 'the', 'kids', 'for', 'being', 'there', 'poncelet', 'never', 'understood', 'that', 'he', 'has', 'robbed', 'the', 'percys', 'and', 'the', 'delacroixs', 'so', 'much', ',', 'giving', 'them', 'nothing', 'but', 'sorrow', 'they', 'are', 'never', 'going', 'to', 'see', 'their', 'children', 'again', ',', 'never', 'going', 'to', 'hold', 'them', ',', 'to', 'love', 'them', ',', 'to', 'laugh', 'with', 'them', 'in', 'the', 'scenes', 'leading', 'up', 'to', 'his', 'execution', ',', 'the', 'death', '-', 'row', 'inmate', 'drops', 'his', 'terrible', 'facade', 'and', 'reveals', 'his', 'identity', 'luckily', 'both', 'sarandon', 'and', 'penn', 'are', 'here', 'exceptional\\x97carrying', 'out', 'successfully', 'an', 'exquisite', ',', 'tangible', 'harmony', 'of', 'souls', 'when', 'sarandon', 'was', 'looking', 'at', 'penn', ',', 'she', 'was', 'projecting', 'compassionate', 'eyes', 'brimming', 'with', 'tears', 'she', 'asks', 'him', 'to', 'visualize', 'her', 'as', 'he', 'dies\\x97', \"''i\", 'want', 'the', 'last', 'thing', 'you', 'see', 'in', 'this', 'world', 'to', 'be', 'the', 'face', 'of', \"love''\\x97in\", 'that', 'moment', ',', 'we', 'truly', 'believed', 'that', 'she', \"'ll\", 'be', 'the', 'face', 'of', 'love', 'for', 'him']\n",
      "Shortest sentence: ['s', '.'] \n",
      "\n",
      "Extreme sentence statistics for test_neg_sentences:\n",
      "The longest sentence has 316 words.\n",
      "The shortest sentence has 2 words.\n",
      "['but', 'afterall', 'they', 'have', 'to', 'make', 'a', '2', 'hrs', '+', 'film', 'so', 'hence', 'you', 'have', 'a', 'tortorius', 'moviethe', 'movie', 'is', 'painful', 'to', 'watch', 'the', 'film', 'was', 'directed', 'by', 'rajkumar', 'kohli', 'who', 'was', 'an', 'expert', 'making', 'such', 'films', 'in', 'the', 'past', 'and', 'had', 'a', 'successful', 'record', 'of', 'films', 'like', 'jaani', 'dushman', '(', '1979', ')', 'and', 'nagin', 'rajkumar', 'kohli', 'wants', 'to', 'help', 'his', 'son', \"'s\", 'non', 'existent', 'career', 'right', 'from', 'virodhi', '(', '1992', ')', ',', 'aulad', 'ke', 'dushman', '(', '1993', ')', 'and', 'qahar', '(', '1996', ')', 'all', 'flops', 'he', 'tried', 'hard', 'to', 'promote', 'his', 'son', 'and', 'he', 'also', 'casts', 'big', 'stars', 'so', 'that', 'his', 'son', 'gets', 'noticed', ',', 'sadly', 'nothing', 'could', 'help', 'his', 'son', \"'s\", 'careerthe', 'film', 'has', 'several', 'comical', 'scenes', 'like', 'the', 'death', 'scenes', ',', 'how', 'the', 'actors', 'after', 'being', 'bashed', 'by', 'the', 'snake', 'are', 'so', 'fit', 'to', 'fight', 'him', 'again', 'and', 'the', 'climaxdirection', 'by', 'rajkumar', 'kohli', 'is', 'bad', 'music', 'is', 'badthat', 'brings', 'us', 'to', 'the', 'cast', 'akshay', 'kumar', '-', 'ordinary', 'stuff', ',', 'he', 'has', 'nothing', 'much', 'to', 'do', 'rather', 'then', 'stunts', 'suneil', 'shetty', '-', 'awful', 'sonu', 'nigam', '-', 'the', 'worst', 'debutante', 'award', 'goes', 'to', 'him', ',', 'he', 'gives', 'cartoon', 'acting', 'a', 'new', 'meaning', 'aftab', '-', 'terrible', 'arshad', 'warsi', '-', 'nothing', 'to', 'do', 'sharad', 'kapoor', '-', 'bad', 'aditya', 'panscholi', '-', 'irritates', 'sunny', 'deol', '-', 'is', 'comical', 'in', 'the', 'scene', 'when', 'he', 'comes', 'to', 'save', 'sonu', 'lol', 'manisha', 'koirala', '-', 'ordinary', 'rambha', '-', 'akshay', \"'s\", 'pair', 'kiran', 'kumar', ',', 'raza', 'murad', 'are', 'as', 'usual', 'raj', 'babbar', '-', 'hilarious', 'for', 'wrong', 'reasons', 'the', 'girls', 'are', 'awful', 'which', 'brings', 'us', 'to', 'munish', 'kohli', 'this', 'guy', 'has', 'a', 'huge', 'physique', ',', 'he', 'is', 'even', 'more', 'stronger', 'and', 'taller', 'then', 'akshay', 'kumar', 'sadly', 'he', 'comes', 'across', 'as', 'poor', 'man', \"'s\", 'akshay', 'his', 'voice', 'is', 'awful', ',', 'his', 'expressions', 'are', 'painful', 'the', 'only', 'thing', 'he', 'has', 'to', 'do', 'in', 'the', 'movie', 'is', 'wear', 'glasses', 'and', 'make', 'an', 'evil', 'face', 'rajat', 'bedi', 'is', 'awful']\n",
      "Shortest sentence: ['!', ')'] \n",
      "\n",
      "Extreme sentence statistics for unsup_sentences:\n",
      "The longest sentence has 535 words.\n",
      "The shortest sentence has 2 words.\n",
      "['a', 'farming', 'family', 'is', 'getting', 'ready', 'for', 'a', 'dinner', ',', 'the', 'son', 'is', 'playing', 'around', 'with', 'the', 'video', 'camera', ',', 'within', 'minutes', 'the', 'power', 'goes', 'out', ',', 'they', 'think', 'its', 'a', 'lightning', 'storm', ',', 'the', 'father', 'and', '2', 'sons', '(', '1', 'has', 'the', 'cam', 'with', 'him', ')', 'go', 'to', 'check', 'it', 'out', 'outside', ',', 'they', 'notice', 'a', 'nearby', 'transformer', 'is', 'sparking', 'and', 'sustained', 'damage', ',', 'they', 'walk', 'closer', 'to', 'see', 'it', ',', 'they', 'look', 'down', 'under', 'the', 'transformer', 'and', 'notice', '3', 'aliens', 'slicing', 'a', 'cow', 'with', 'a', 'laser', ',', 'they', 'get', 'spotted', ',', '1', 'alien', 'fires', 'the', 'laser', 'at', 'them', '(', 'no', 'beam', 'is', 'seen', ')', ',', 'the', 'other', 'son', 'is', 'injured', ',', 'they', 'run', 'back', 'to', 'the', 'house', ',', 'tell', 'the', 'family', ',', 'the', 'family', 'immediately', 'panics', 'and', 'wants', 'to', 'take', 'the', 'son', 'to', 'the', 'hospital', ',', 'the', 'father', 'and', 'the', 'son', 'go', 'to', 'the', 'truck', '(', 'a', 'really', 'old', 'beat', 'up', 'truck', ')', 'and', 'cant', 'start', 'it', ',', 'they', 'notice', 'the', 'engine', 'was', 'completely', 'melted', ',', 'they', 'run', 'back', 'to', 'the', 'house', ',', 'and', 'they', 'hear', 'them', 'upstairs', ',', 'the', 'father', 'and', 'son', 'walk', 'up', 'the', 'stairs', 'and', 'hears', 'a', 'alien', 'in', 'the', 'bedroom', '(', 'the', 'door', 'is', 'closed', ')', ',', 'the', 'alien', 'fires', 'a', 'laser', 'through', 'the', 'door', ',', 'the', 'father', 'fires', 'the', 'shotgun', ',', 'kills', 'the', 'alien', '(', 'presumably', ')', ',', 'they', 'run', 'back', 'down', ',', 'the', 'family', 'is', 'panicking', 'even', 'more', ',', 'they', 'attempt', 'to', 'run', 'out', 'of', 'the', 'house', ',', 'an', 'electrical', 'bolt', '/', 'laser', 'comes', 'through', 'the', 'window', 'above', 'the', 'door', ',', 'injures', 'another', 'family', 'member', ',', 'they', 'run', 'back', 'to', 'the', 'dining', 'room', ',', 'a', 'loud', 'noise', 'enters', 'the', 'room', ',', 'they', 'fall', 'in', 'pain', ',', 'the', 'sound', 'stops', ',', 'then', 'they', 'notice', 'they', 'all', 'have', 'nose', 'bleeds', 'and', 'what', 'appear', 'to', 'be', 'radiation', 'burns', 'on', 'their', 'bodies', ',', 'the', 'little', 'girl', '(', 'no', 'older', 'than', '5', ')', 'says', '(', 'in', 'a', 'monotone', 'voice', ')', 'that', 'everything', 'is', 'going', 'to', 'be', 'ok', ',', 'she', 'seemed', 'zombified', 'and', 'keeps', 'reassuring', 'them', 'everything', 'will', 'be', 'ok', 'and', 'not', 'to', 'worry', ',', 'she', 'does', \"n't\", 'move', 'or', 'say', 'anything', 'else', ',', 'the', 'father', 'finally', 'goes', 'out', 'of', 'the', 'house', 'to', 'try', 'to', 'get', 'the', 'truck', 'working', 'or', 'find', 'some', 'other', 'transportation', ',', 'they', 'hear', 'shots', 'fired', ',', 'they', 'all', 'run', 'out', 'and', 'notice', 'he', \"'s\", 'gone', 'and', 'the', 'shotgun', 'is', 'melted', ',', 'they', 'run', 'back', 'to', 'the', 'house', ',', 'the', 'son', 'with', 'the', 'camera', 'goes', 'upstairs', 'to', 'change', 'his', 'pants', '(', 'because', 'he', 'peed', 'himself', ')', 'he', 'goes', 'back', 'down', 'and', 'notices', 'everyone', 'is', 'gone', ',', 'he', 'runs', 'back', 'upstairs', 'in', 'the', 'bathroom', 'sits', 'on', 'the', 'toilet', ',', 'sets', 'the', 'camera', 'to', 'point', 'at', 'him', ',', 'he', 'says', 'he', \"'s\", 'scared', 'and', 'does', \"n't\", 'want', 'to', 'die', ',', 'he', 'starts', 'crying', 'and', 'he', 'says', 'he', 'does', \"n't\", 'know', 'what', \"'s\", 'going', 'on', 'or', 'why', 'are', 'they', 'doing', 'this', ',', 'then', 'you', 'see', 'a', '3', 'fingered', 'hand', 'grab', 'the', 'camera', 'lens', ',', 'a', 'alien', 'grabbed', 'it', ',', 'looked', 'at', 'it', '(', 'meanwhile', 'the', 'lens', 'is', 'facing', 'it', 'so', 'you', 'see', 'the', 'alien', ')', 'it', 'then', 'puts', 'the', 'camera', 'down', 'in', 'a', 'different', 'direction', ',', 'and', 'that', \"'s\", 'all', 'you', 'see', '.']\n",
      "Shortest sentence: ['enjoy', '!'] \n",
      "\n"
     ]
    }
   ],
   "source": [
    "all_sentences = ['train_pos_sentences', 'train_neg_sentences', 'test_pos_sentences', 'test_neg_sentences', 'unsup_sentences']\n",
    "for i in all_sentences:\n",
    "    print(\"Extreme sentence statistics for \" + i + \":\")\n",
    "    extreme_sentences(eval(i))"
   ]
  },
  {
   "cell_type": "markdown",
   "metadata": {},
   "source": [
    "To gain some additional understanding of our corpus, we investigate the distribution of sentence lengths more closely."
   ]
  },
  {
   "cell_type": "code",
   "execution_count": null,
   "metadata": {
    "collapsed": false
   },
   "outputs": [
    {
     "name": "stdout",
     "output_type": "stream",
     "text": [
      "Total number of sentences: 1325240\n",
      "Sentences of length 0: 34865\n",
      "Sentences of length >200: 79 ( 0.005961184389242704 %,  <=200: 1325161 )\n",
      "\n",
      "Sentences of length >100: 1752 ( 0.13220246898674956 %,  <=100: 1323488 )\n",
      "\n",
      "Sentences of length >60: 19585 ( 1.4778455223204854 %,  <=60: 1305655 )\n",
      "\n"
     ]
    },
    {
     "data": {
      "image/png": "[encoded data removed]",
      "text/plain": [
       "<matplotlib.figure.Figure at 0x18d069588>"
      ]
     },
     "metadata": {},
     "output_type": "display_data"
    }
   ],
   "source": [
    "# obtain list of sentence lengths\n",
    "sentences = train_pos_sentences + train_neg_sentences + test_pos_sentences + test_neg_sentences + unsup_sentences\n",
    "sentence_lengths = [len(elem) for elem in sentences]\n",
    "sentence_lengths.sort()\n",
    "\n",
    "# get total number of sentences\n",
    "print(\"Total number of sentences:\", len(sentence_lengths))\n",
    "# get number of sentences of length 2\n",
    "print(\"Sentences of length 0:\", sum([i==2 for i in sentence_lengths]))\n",
    "# get number of sentences of size greater than 200\n",
    "print(\"Sentences of length >200:\", sum([i>200 for i in sentence_lengths]), \n",
    "      \"(\", 100*sum([i>200 for i in sentence_lengths])/len(sentence_lengths), \"%, \",\n",
    "      \"<=200:\", sum([i<=200 for i in sentence_lengths]), \")\\n\")\n",
    "# get number of sentences of size greater than 100\n",
    "print(\"Sentences of length >100:\", sum([i>100 for i in sentence_lengths]),\n",
    "      \"(\", 100*sum([i>100 for i in sentence_lengths])/len(sentence_lengths), \"%, \",\n",
    "      \"<=100:\", sum([i<=100 for i in sentence_lengths]), \")\\n\")\n",
    "# get number of sentences of size greater than 60\n",
    "print(\"Sentences of length >60:\", sum([i>60 for i in sentence_lengths]), \n",
    "      \"(\", 100*sum([i>60 for i in sentence_lengths])/len(sentence_lengths), \"%, \",\n",
    "      \"<=60:\", sum([i<=60 for i in sentence_lengths]), \")\\n\")\n",
    "\n",
    "# make plots\n",
    "plt.figure(figsize=(10,2.5))\n",
    "\n",
    "# make histogram of sentence lengths for sentences <=200 \n",
    "plt.subplot(131)\n",
    "plt.hist(sentence_lengths, bins=np.linspace(0, 200, 21))\n",
    "plt.title(\"Histogram <= 200\")\n",
    "\n",
    "# make histogram of sentence lengths for sentences <=100 \n",
    "plt.subplot(132)\n",
    "plt.hist(sentence_lengths, bins=np.linspace(0, 100, 11))\n",
    "plt.title(\"Histogram <= 100\")\n",
    "\n",
    "# make histogram of sentence lengths for sentences <=60\n",
    "plt.subplot(133)\n",
    "plt.hist(sentence_lengths, bins=np.linspace(0, 60, 11))\n",
    "plt.title(\"Histogram <= 60\")\n",
    "\n",
    "# adjust spacing between subplots to minimize the overlaps\n",
    "plt.tight_layout()\n",
    "plt.show()"
   ]
  },
  {
   "cell_type": "markdown",
   "metadata": {},
   "source": [
    "Next, we train the Word2Vec model."
   ]
  },
  {
   "cell_type": "code",
   "execution_count": null,
   "metadata": {
    "collapsed": false
   },
   "outputs": [],
   "source": [
    "# Uncomment the below line to visualize progress\n",
    "# logging.basicConfig(format='%(asctime)s : %(levelname)s : %(message)s', level=logging.INFO)\n",
    "\n",
    "# Set values for various parameters\n",
    "num_features = 300    # Word vector dimensionality                      \n",
    "min_word_count = 40   # Minimum word count                        \n",
    "num_workers = 4       # Number of threads to run in parallel\n",
    "context = 10          # Context window size                                                                                    \n",
    "downsampling = 1e-3   # Downsample setting for frequent words\n",
    "\n",
    "# Initialize and train the model \n",
    "model = word2vec.Word2Vec(sentences, workers=num_workers, \\\n",
    "            size=num_features, min_count = min_word_count, \\\n",
    "            window = context, sample = downsampling)\n",
    "\n",
    "# If you don't plan to train the model any further, calling \n",
    "# init_sims will make the model much more memory-efficient.\n",
    "model.init_sims(replace=True)"
   ]
  },
  {
   "cell_type": "markdown",
   "metadata": {},
   "source": [
    "To peek at how the Word2Vec embedding might be working, we output the words that are deemed closest to a couple of sentiment-charged words."
   ]
  },
  {
   "cell_type": "code",
   "execution_count": null,
   "metadata": {
    "collapsed": false
   },
   "outputs": [],
   "source": [
    "model.most_similar(\"awesome\")"
   ]
  },
  {
   "cell_type": "code",
   "execution_count": null,
   "metadata": {
    "collapsed": false
   },
   "outputs": [],
   "source": [
    "model.most_similar(\"awful\")"
   ]
  },
  {
   "cell_type": "markdown",
   "metadata": {},
   "source": [
    "We next use the TSNE algorithm to visualize a subset of the words in a lower-dimensional embedding.  It should be possible to zoom into the plot below.  (On my end, plot is broken in Firefox, but works just fine in Safari!)"
   ]
  },
  {
   "cell_type": "code",
   "execution_count": null,
   "metadata": {
    "collapsed": false
   },
   "outputs": [],
   "source": [
    "upper_limit = 300\n",
    "\n",
    "vocabulary = list(model.vocab.keys())[:upper_limit]\n",
    "emb_tuple = tuple([model[v] for v in vocabulary])\n",
    "X = np.vstack(emb_tuple)\n",
    "tsne_model = TSNE(n_components=2, random_state=0)\n",
    "np.set_printoptions(suppress=True)\n",
    "X_new = tsne_model.fit_transform(X) "
   ]
  },
  {
   "cell_type": "code",
   "execution_count": null,
   "metadata": {
    "collapsed": false
   },
   "outputs": [],
   "source": [
    "plt.figure(figsize=(10,10))\n",
    "plt.scatter(X_new[:, 0], X_new[:, 1], s=3)\n",
    "for label, x, y in zip(vocabulary, X_new[:, 0], X_new[:, 1]):\n",
    "    plt.text(x, y, label, {'color': 'k', 'fontsize': 5})\n",
    "mpld3.enable_notebook()"
   ]
  },
  {
   "cell_type": "markdown",
   "metadata": {},
   "source": [
    "TODO: Use embeddings to perform sentiment analysis."
   ]
  }
 ],
 "metadata": {
  "anaconda-cloud": {},
  "kernelspec": {
   "display_name": "Python [conda root]",
   "language": "python",
   "name": "conda-root-py"
  },
  "language_info": {
   "codemirror_mode": {
    "name": "ipython",
    "version": 3
   },
   "file_extension": ".py",
   "mimetype": "text/x-python",
   "name": "python",
   "nbconvert_exporter": "python",
   "pygments_lexer": "ipython3",
   "version": "3.5.2"
  }
 },
 "nbformat": 4,
 "nbformat_minor": 1
}
